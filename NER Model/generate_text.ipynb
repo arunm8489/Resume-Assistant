{
 "cells": [
  {
   "cell_type": "code",
   "execution_count": null,
   "id": "3772900f",
   "metadata": {},
   "outputs": [],
   "source": [
    "import numpy as np\n",
    "import pytesseract\n",
    "import cv2\n",
    "import os\n",
    "from PIL import Image\n",
    "import re\n",
    "from tqdm import tqdm"
   ]
  },
  {
   "cell_type": "code",
   "execution_count": null,
   "id": "f1a91a34",
   "metadata": {},
   "outputs": [],
   "source": [
    "image_dir = '../data/resumes_data/All/Resume_images'\n",
    "images = os.listdir(image_dir)\n",
    "\n",
    "\n",
    "text_dir = 'Text'\n",
    "if not os.path.exists(text_dir):\n",
    "    os.makedirs(text_dir)\n",
    "\n",
    "for image in tqdm(images):\n",
    "    text = pytesseract.image_to_string(Image.open(os.path.join(image_dir,image)))\n",
    "    text = re.sub(r'^$\\n', '', text, flags=re.MULTILINE)\n",
    "\n",
    "    text_file_path = os.path.join(text_dir,image.split('.')[0]+'.txt')\n",
    "    with open(text_file_path,'w') as f:\n",
    "        f.write(text)"
   ]
  },
  {
   "cell_type": "markdown",
   "id": "c0709221",
   "metadata": {},
   "source": [
    "## Filtering data"
   ]
  },
  {
   "cell_type": "code",
   "execution_count": 8,
   "id": "24c734c9",
   "metadata": {},
   "outputs": [],
   "source": [
    "import pandas as pd\n",
    "import os"
   ]
  },
  {
   "cell_type": "code",
   "execution_count": 27,
   "id": "56ca70e5",
   "metadata": {
    "scrolled": false
   },
   "outputs": [
    {
     "name": "stdout",
     "output_type": "stream",
     "text": [
      "(417, 9)\n"
     ]
    },
    {
     "data": {
      "text/html": [
       "<div>\n",
       "<style scoped>\n",
       "    .dataframe tbody tr th:only-of-type {\n",
       "        vertical-align: middle;\n",
       "    }\n",
       "\n",
       "    .dataframe tbody tr th {\n",
       "        vertical-align: top;\n",
       "    }\n",
       "\n",
       "    .dataframe thead th {\n",
       "        text-align: right;\n",
       "    }\n",
       "</style>\n",
       "<table border=\"1\" class=\"dataframe\">\n",
       "  <thead>\n",
       "    <tr style=\"text-align: right;\">\n",
       "      <th></th>\n",
       "      <th>Resume name</th>\n",
       "      <th>Candidate Name</th>\n",
       "      <th>Stage 1 (resume screening) Output</th>\n",
       "      <th>Stage 2 (1st round technical interview) Output</th>\n",
       "      <th>Stage 3 (2nd round technical interview) Output</th>\n",
       "      <th>Stage 4 (HR round/Accepted) Output</th>\n",
       "      <th>Stage 5 (Onboarded) Output</th>\n",
       "      <th>Role</th>\n",
       "      <th>Comment</th>\n",
       "    </tr>\n",
       "  </thead>\n",
       "  <tbody>\n",
       "    <tr>\n",
       "      <th>0</th>\n",
       "      <td>shrijoy</td>\n",
       "      <td>Shrijoy</td>\n",
       "      <td>0</td>\n",
       "      <td>0</td>\n",
       "      <td>0</td>\n",
       "      <td>NaN</td>\n",
       "      <td>NaN</td>\n",
       "      <td>NaN</td>\n",
       "      <td>NaN</td>\n",
       "    </tr>\n",
       "    <tr>\n",
       "      <th>1</th>\n",
       "      <td>abhina_b</td>\n",
       "      <td>Abhinaba</td>\n",
       "      <td>0</td>\n",
       "      <td>0</td>\n",
       "      <td>0</td>\n",
       "      <td>NaN</td>\n",
       "      <td>NaN</td>\n",
       "      <td>NaN</td>\n",
       "      <td>NaN</td>\n",
       "    </tr>\n",
       "    <tr>\n",
       "      <th>2</th>\n",
       "      <td>hemanth</td>\n",
       "      <td>Hemanth</td>\n",
       "      <td>1</td>\n",
       "      <td>0</td>\n",
       "      <td>0</td>\n",
       "      <td>NaN</td>\n",
       "      <td>NaN</td>\n",
       "      <td>NaN</td>\n",
       "      <td>NaN</td>\n",
       "    </tr>\n",
       "    <tr>\n",
       "      <th>3</th>\n",
       "      <td>raghuveera</td>\n",
       "      <td>Raghuveerangouda</td>\n",
       "      <td>1</td>\n",
       "      <td>0</td>\n",
       "      <td>0</td>\n",
       "      <td>NaN</td>\n",
       "      <td>NaN</td>\n",
       "      <td>NaN</td>\n",
       "      <td>NaN</td>\n",
       "    </tr>\n",
       "    <tr>\n",
       "      <th>4</th>\n",
       "      <td>ganesh_rode</td>\n",
       "      <td>Ganesh</td>\n",
       "      <td>0</td>\n",
       "      <td>0</td>\n",
       "      <td>0</td>\n",
       "      <td>NaN</td>\n",
       "      <td>NaN</td>\n",
       "      <td>NaN</td>\n",
       "      <td>NaN</td>\n",
       "    </tr>\n",
       "  </tbody>\n",
       "</table>\n",
       "</div>"
      ],
      "text/plain": [
       "   Resume name    Candidate Name  Stage 1 (resume screening) Output  \\\n",
       "0      shrijoy           Shrijoy                                  0   \n",
       "1     abhina_b          Abhinaba                                  0   \n",
       "2      hemanth           Hemanth                                  1   \n",
       "3   raghuveera  Raghuveerangouda                                  1   \n",
       "4  ganesh_rode            Ganesh                                  0   \n",
       "\n",
       "   Stage 2 (1st round technical interview) Output  \\\n",
       "0                                               0   \n",
       "1                                               0   \n",
       "2                                               0   \n",
       "3                                               0   \n",
       "4                                               0   \n",
       "\n",
       "   Stage 3 (2nd round technical interview) Output  \\\n",
       "0                                               0   \n",
       "1                                               0   \n",
       "2                                               0   \n",
       "3                                               0   \n",
       "4                                               0   \n",
       "\n",
       "  Stage 4 (HR round/Accepted) Output  Stage 5 (Onboarded) Output  Role  \\\n",
       "0                                NaN                         NaN   NaN   \n",
       "1                                NaN                         NaN   NaN   \n",
       "2                                NaN                         NaN   NaN   \n",
       "3                                NaN                         NaN   NaN   \n",
       "4                                NaN                         NaN   NaN   \n",
       "\n",
       "   Comment  \n",
       "0      NaN  \n",
       "1      NaN  \n",
       "2      NaN  \n",
       "3      NaN  \n",
       "4      NaN  "
      ]
     },
     "execution_count": 27,
     "metadata": {},
     "output_type": "execute_result"
    }
   ],
   "source": [
    "df = pd.read_excel('../data/hiring_data_new_V2.xlsx')\n",
    "print(df.shape)\n",
    "df.head()"
   ]
  },
  {
   "cell_type": "code",
   "execution_count": 46,
   "id": "11c3f678",
   "metadata": {},
   "outputs": [
    {
     "name": "stdout",
     "output_type": "stream",
     "text": [
      "ankit_gupta_0.txt ankit_gupta\n",
      "(87, 2)\n"
     ]
    },
    {
     "data": {
      "text/html": [
       "<div>\n",
       "<style scoped>\n",
       "    .dataframe tbody tr th:only-of-type {\n",
       "        vertical-align: middle;\n",
       "    }\n",
       "\n",
       "    .dataframe tbody tr th {\n",
       "        vertical-align: top;\n",
       "    }\n",
       "\n",
       "    .dataframe thead th {\n",
       "        text-align: right;\n",
       "    }\n",
       "</style>\n",
       "<table border=\"1\" class=\"dataframe\">\n",
       "  <thead>\n",
       "    <tr style=\"text-align: right;\">\n",
       "      <th></th>\n",
       "      <th>name</th>\n",
       "      <th>label</th>\n",
       "    </tr>\n",
       "  </thead>\n",
       "  <tbody>\n",
       "    <tr>\n",
       "      <th>0</th>\n",
       "      <td>aakansha_tyagi</td>\n",
       "      <td>1</td>\n",
       "    </tr>\n",
       "    <tr>\n",
       "      <th>1</th>\n",
       "      <td>abashes_das</td>\n",
       "      <td>1</td>\n",
       "    </tr>\n",
       "    <tr>\n",
       "      <th>2</th>\n",
       "      <td>abdal_attar</td>\n",
       "      <td>1</td>\n",
       "    </tr>\n",
       "    <tr>\n",
       "      <th>3</th>\n",
       "      <td>abdal_attar</td>\n",
       "      <td>1</td>\n",
       "    </tr>\n",
       "    <tr>\n",
       "      <th>4</th>\n",
       "      <td>abdal_attar</td>\n",
       "      <td>1</td>\n",
       "    </tr>\n",
       "  </tbody>\n",
       "</table>\n",
       "</div>"
      ],
      "text/plain": [
       "             name  label\n",
       "0  aakansha_tyagi      1\n",
       "1     abashes_das      1\n",
       "2     abdal_attar      1\n",
       "3     abdal_attar      1\n",
       "4     abdal_attar      1"
      ]
     },
     "execution_count": 46,
     "metadata": {},
     "output_type": "execute_result"
    }
   ],
   "source": [
    "text_files = os.listdir('phase1_full_data')\n",
    "text_files\n",
    "\n",
    "doc = []\n",
    "for t in text_files:\n",
    "    try:\n",
    "        f_name = t.split('.')[0][:-2]\n",
    "        df_mini = df[df['Resume name'] == f_name]\n",
    "        name = df_mini['Resume name'].values[0]\n",
    "        label = df_mini['Stage 1 (resume screening) Output'].values[0]\n",
    "        doc.append((name,label))\n",
    "    except:\n",
    "        print(t,f_name)\n",
    "            \n",
    "            \n",
    "df_out = pd.DataFrame(doc,columns=['name','label'])\n",
    "print(df_out.shape)\n",
    "df_out.head()"
   ]
  },
  {
   "cell_type": "code",
   "execution_count": 43,
   "id": "46027549",
   "metadata": {},
   "outputs": [
    {
     "data": {
      "text/plain": [
       "(88, 2)"
      ]
     },
     "execution_count": 43,
     "metadata": {},
     "output_type": "execute_result"
    }
   ],
   "source": [
    "df_out.loc[len(df_out.index)] = ['ankit_gupta',1]\n",
    "df_out.shape"
   ]
  },
  {
   "cell_type": "code",
   "execution_count": 45,
   "id": "be34436d",
   "metadata": {},
   "outputs": [],
   "source": [
    "df_out.to_csv('phase_1_labels.csv',index=False)"
   ]
  },
  {
   "cell_type": "code",
   "execution_count": null,
   "id": "b1165255",
   "metadata": {},
   "outputs": [],
   "source": []
  }
 ],
 "metadata": {
  "kernelspec": {
   "display_name": "Python 3 (ipykernel)",
   "language": "python",
   "name": "python3"
  },
  "language_info": {
   "codemirror_mode": {
    "name": "ipython",
    "version": 3
   },
   "file_extension": ".py",
   "mimetype": "text/x-python",
   "name": "python",
   "nbconvert_exporter": "python",
   "pygments_lexer": "ipython3",
   "version": "3.9.7"
  },
  "vscode": {
   "interpreter": {
    "hash": "f99a943f11db499ba3fcbe781ad729fdd97374594b25a428d1ba655b15e3992a"
   }
  }
 },
 "nbformat": 4,
 "nbformat_minor": 5
}
