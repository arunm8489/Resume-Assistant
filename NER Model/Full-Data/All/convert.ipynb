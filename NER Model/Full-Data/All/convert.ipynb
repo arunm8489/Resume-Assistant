{
 "cells": [
  {
   "cell_type": "code",
   "execution_count": 1,
   "metadata": {},
   "outputs": [],
   "source": [
    "import os\n",
    "from pdf2image import convert_from_path\n",
    "import cv2"
   ]
  },
  {
   "cell_type": "code",
   "execution_count": 11,
   "metadata": {},
   "outputs": [
    {
     "data": {
      "text/plain": [
       "313"
      ]
     },
     "execution_count": 11,
     "metadata": {},
     "output_type": "execute_result"
    }
   ],
   "source": [
    "pdfs = os.listdir('Resume_data')\n",
    "pdfs = [i for i in pdfs if i.split('.')[1] == 'pdf']\n",
    "len(pdfs)"
   ]
  },
  {
   "cell_type": "code",
   "execution_count": 12,
   "metadata": {},
   "outputs": [],
   "source": [
    "\n",
    "def convert_and_save(pdf_path,dir_name):\n",
    "    image_name = pdf_path.split(\"\\\\\")[1].split('.')[0]\n",
    "    images = convert_from_path(pdf_path, 500)\n",
    "    for i, image in enumerate(images):\n",
    "        fname = f'{image_name}_{str(i)}.png'\n",
    "        target_path = os.path.join(dir_name,fname)\n",
    "        image.save(target_path, \"PNG\")"
   ]
  },
  {
   "cell_type": "code",
   "execution_count": 10,
   "metadata": {},
   "outputs": [
    {
     "name": "stdout",
     "output_type": "stream",
     "text": [
      "['Resume_data', 'aakansha_tyagi.pdf']\n"
     ]
    }
   ],
   "source": [
    "for pdf in pdfs:\n",
    "    pdf_path = os.path.join('Resume_data',pdf)\n",
    "    print(pdf_path)\n",
    "    convert_and_save(pdf_path,dir_name=\"images\")\n",
    "    break"
   ]
  },
  {
   "cell_type": "code",
   "execution_count": null,
   "metadata": {},
   "outputs": [],
   "source": []
  }
 ],
 "metadata": {
  "interpreter": {
   "hash": "3d599d27c35de142dbd1c0876b250836d493766dab7f05eab6f104f407459bdd"
  },
  "kernelspec": {
   "display_name": "Python 3.6.13 ('cv-parser-env')",
   "language": "python",
   "name": "python3"
  },
  "language_info": {
   "codemirror_mode": {
    "name": "ipython",
    "version": 3
   },
   "file_extension": ".py",
   "mimetype": "text/x-python",
   "name": "python",
   "nbconvert_exporter": "python",
   "pygments_lexer": "ipython3",
   "version": "3.6.13"
  },
  "orig_nbformat": 4
 },
 "nbformat": 4,
 "nbformat_minor": 2
}
